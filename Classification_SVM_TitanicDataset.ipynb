{
  "nbformat": 4,
  "nbformat_minor": 0,
  "metadata": {
    "colab": {
      "name": "Classification-SVM-TitanicDataset.ipynb",
      "provenance": [],
      "collapsed_sections": [],
      "authorship_tag": "ABX9TyM1OYadT2/rSqP5tRW244Zd",
      "include_colab_link": true
    },
    "kernelspec": {
      "name": "python3",
      "display_name": "Python 3"
    },
    "language_info": {
      "name": "python"
    }
  },
  "cells": [
    {
      "cell_type": "markdown",
      "metadata": {
        "id": "view-in-github",
        "colab_type": "text"
      },
      "source": [
        "<a href=\"https://colab.research.google.com/github/achmadbauravindah/TextClassifiaction-SVM-TitanicDataset/blob/main/Classification_SVM_TitanicDataset.ipynb\" target=\"_parent\"><img src=\"https://colab.research.google.com/assets/colab-badge.svg\" alt=\"Open In Colab\"/></a>"
      ]
    },
    {
      "cell_type": "code",
      "execution_count": null,
      "metadata": {
        "id": "MtxnyFFHdgjY"
      },
      "outputs": [],
      "source": [
        "import matplotlib.pyplot as plt # Plotting\n",
        "import numpy as np # Array\n",
        "import pandas as pd # Dataframe\n",
        "from sklearn.impute import KNNImputer # Missing Value\n",
        "from sklearn.preprocessing import MinMaxScaler # Normalisasi data\n",
        "from sklearn.svm import SVC # Support Vector Machine Classifier\n",
        "from sklearn.model_selection import train_test_split # Split data\n",
        "from sklearn.metrics import accuracy_score\n",
        "from sklearn.model_selection import GridSearchCV\n",
        "import time\n",
        "import random\n",
        "import csv"
      ]
    },
    {
      "cell_type": "code",
      "source": [
        "# Get data from Kaggle\n",
        "_ = ! git clone https://github.com/achmadbauravindah/ravin_kaggle_credential.git # get credential from kaggle\n",
        "_ = ! pip install kaggle # install kaggle on device\n",
        "_ = ! mkdir ~/.kaggle # make hidden folder .kaggle to configure credential\n",
        "_ = ! cp ravin_kaggle_credential/kaggle.json ~/.kaggle/ # copy credential from github to .kaggle folder\n",
        "_ = ! chmod 600 ~/.kaggle/kaggle.json # change access\n",
        "_ = ! kaggle datasets download titanic-dataset # which dataset to download\n",
        "_ = ! unzip titanic-dataset # unzip if data zipped"
      ],
      "metadata": {
        "id": "wHXssMgVfTEJ"
      },
      "execution_count": null,
      "outputs": []
    },
    {
      "cell_type": "code",
      "source": [
        "# Load dataset from storage\n",
        "PATH = \"Titanic Dataset.csv\"\n",
        "raw_data = pd.read_csv(PATH, delimiter=';')"
      ],
      "metadata": {
        "id": "Z4giJXiYe-ye"
      },
      "execution_count": null,
      "outputs": []
    },
    {
      "cell_type": "code",
      "source": [
        "raw_data.isnull().sum()"
      ],
      "metadata": {
        "colab": {
          "base_uri": "https://localhost:8080/"
        },
        "id": "ESleheCgg2wZ",
        "outputId": "04b1aa16-d246-413a-84d7-9d8826bf355b"
      },
      "execution_count": null,
      "outputs": [
        {
          "output_type": "execute_result",
          "data": {
            "text/plain": [
              "PassengerId       0\n",
              "Survived          0\n",
              "Pclass            0\n",
              "Name              0\n",
              "Sex               0\n",
              "Age             263\n",
              "SibSp             0\n",
              "Parch             0\n",
              "Ticket            0\n",
              "Fare              1\n",
              "Cabin          1014\n",
              "Embarked          2\n",
              "dtype: int64"
            ]
          },
          "metadata": {},
          "execution_count": 4
        }
      ]
    },
    {
      "cell_type": "code",
      "source": [
        "raw_data.shape"
      ],
      "metadata": {
        "colab": {
          "base_uri": "https://localhost:8080/"
        },
        "id": "TJp_nztFnw0t",
        "outputId": "6dcf9cf4-eedb-4b34-f949-33c0ec18fc5e"
      },
      "execution_count": null,
      "outputs": [
        {
          "output_type": "execute_result",
          "data": {
            "text/plain": [
              "(1309, 12)"
            ]
          },
          "metadata": {},
          "execution_count": 5
        }
      ]
    },
    {
      "cell_type": "code",
      "source": [
        "def dropColumns(data):\n",
        "  data = data.drop(['PassengerId'], axis=1) # Karena tidak ada korelasi dengan data\n",
        "  data = data.drop(['Name'], axis=1) # Karena tidak ada korelasi dengan data\n",
        "  data = data.drop(['Ticket'], axis=1) # Karena tidak ada korelasi dengan data\n",
        "  data = data.drop(['Cabin'], axis=1) # Karena values banyak yang missing\n",
        "  return data"
      ],
      "metadata": {
        "id": "cfpJ5UgCgNYH"
      },
      "execution_count": null,
      "outputs": []
    },
    {
      "cell_type": "code",
      "source": [
        "def encodingData(data): # Encode / Merubah Kategorikal menjadi Numerikal\n",
        "  data['Sex'].replace({ 'male':0, 'female':1}, inplace=True)\n",
        "  data['Embarked'].replace({ 'C':0, 'Q':1, 'S':2}, inplace=True)\n",
        "  return data"
      ],
      "metadata": {
        "id": "BMZiNU94inHW"
      },
      "execution_count": null,
      "outputs": []
    },
    {
      "cell_type": "code",
      "source": [
        "def handleMissingValues(data):\n",
        "  k = 5\n",
        "  imputer = KNNImputer(n_neighbors=k)\n",
        "  data = pd.DataFrame(imputer.fit_transform(data), columns = data.columns)\n",
        "  return data"
      ],
      "metadata": {
        "id": "WaRRr5_Tkke-"
      },
      "execution_count": null,
      "outputs": []
    },
    {
      "cell_type": "code",
      "source": [
        "def normalizeData(data):\n",
        "  data = np.array(data) # Ubah ke Numpy\n",
        "  data = np.rint(data) # Membulatkan data\n",
        "  data = pd.DataFrame(data) # Ubah ke Pandas\n",
        "  scaler = MinMaxScaler()\n",
        "  data = pd.DataFrame(scaler.fit_transform(data), columns = data.columns)\n",
        "  return data"
      ],
      "metadata": {
        "id": "Hh-c4G-kkpoI"
      },
      "execution_count": null,
      "outputs": []
    },
    {
      "cell_type": "code",
      "source": [
        "def sliceLabel(data):\n",
        "  X = data\n",
        "  y = data.pop(0)\n",
        "  return X, y"
      ],
      "metadata": {
        "id": "rNw4H4n2ksl1"
      },
      "execution_count": null,
      "outputs": []
    },
    {
      "cell_type": "code",
      "source": [
        "def toNumpy(X, y):\n",
        "  X = np.array(X)\n",
        "  y = np.array(y)\n",
        "  return X, y"
      ],
      "metadata": {
        "id": "mDRHJW25eADm"
      },
      "execution_count": null,
      "outputs": []
    },
    {
      "cell_type": "code",
      "source": [
        "def parameters_tuning_SVM(model, X, y):\n",
        "  params_grid_SVC = [\n",
        "                  {'C': [0.5, 1, 10, 100],\n",
        "                   'gamma': ['scale', 1, 0.1, 0.01, 0.001, 0.0001],\n",
        "                   'kernel': ['rbf', 'linear', 'poly', 'sigmoid']},\n",
        "                  ]\n",
        "  optimal_parameters = GridSearchCV(estimator = model, \n",
        "                                  param_grid = params_grid_SVC, \n",
        "                                  cv=2, \n",
        "                                  scoring='accuracy'\n",
        "                                  )\n",
        "  optimum = optimal_parameters.fit(X, y)\n",
        "  print(optimum.best_params_)"
      ],
      "metadata": {
        "id": "rLRwTmqteRVj"
      },
      "execution_count": null,
      "outputs": []
    },
    {
      "cell_type": "code",
      "source": [
        "titanic_data = raw_data\n",
        "titanic_data = dropColumns(titanic_data)\n",
        "titanic_data = encodingData(titanic_data)\n",
        "titanic_data = handleMissingValues(titanic_data)\n",
        "titanic_data = normalizeData(titanic_data)\n",
        "X, y = sliceLabel(titanic_data) # Memisahkan data input dengan data label\n",
        "X, y = toNumpy(X ,y) # Mengubah data ke bentuk array numpy"
      ],
      "metadata": {
        "id": "gVaOoB5xk-si"
      },
      "execution_count": null,
      "outputs": []
    },
    {
      "cell_type": "code",
      "source": [
        "# Parameters Tuning\n",
        "SVCOpt = SVC()\n",
        "parameters_tuning_SVM(SVCOpt, X, y)"
      ],
      "metadata": {
        "colab": {
          "base_uri": "https://localhost:8080/"
        },
        "id": "WA3CXliSn-aK",
        "outputId": "a4ad880d-d741-4208-e66b-2a463edc342c"
      },
      "execution_count": null,
      "outputs": [
        {
          "output_type": "stream",
          "name": "stdout",
          "text": [
            "{'C': 10, 'gamma': 0.1, 'kernel': 'poly'}\n"
          ]
        }
      ]
    },
    {
      "cell_type": "code",
      "source": [
        "def getMetrics(y_test_actual, y_test_predict):\n",
        "  cm = confusion_matrix(y_test_actual, y_test_predict)\n",
        "  accuracy = accuracy_score(y_test_actual, y_test_predict)\n",
        "  recall = recall_score(y_test_actual, y_test_predict, average='macro')\n",
        "  precision = precision_score(y_test_actual, y_test_predict, average='macro')\n",
        "  f1 = f1_score(y_test_actual, y_test_predict, average='macro')\n",
        "  return cm, accuracy*100, precision*100, recall*100, f1*100"
      ],
      "metadata": {
        "id": "8eOhso68rU7B"
      },
      "execution_count": null,
      "outputs": []
    },
    {
      "cell_type": "code",
      "source": [
        "from sklearn.metrics import accuracy_score\n",
        "from sklearn.model_selection import KFold\n",
        "from sklearn.metrics import confusion_matrix\n",
        "from sklearn.metrics import precision_score, recall_score, f1_score\n",
        "\n",
        "def trainModelWithKFlod(n_folds, model, X, y):\n",
        "  kfold = KFold(n_splits=n_folds, shuffle=True)\n",
        "\n",
        "  # Simpan Metrics tiap fold\n",
        "  acc_per_fold = []\n",
        "  cm_per_fold = []\n",
        "  precision_per_fold = []\n",
        "  recall_per_fold =[]\n",
        "  f1_per_fold = []\n",
        "\n",
        "  for train_i, test_i in kfold.split(X, y):\n",
        "    X_train = X[train_i]\n",
        "    y_train = y[train_i]\n",
        "    X_test = X[test_i]\n",
        "    y_test = y[test_i]\n",
        "    \n",
        "    model.fit(X_train, y_train)\n",
        "    y_test_predicted = model.predict(X_test)\n",
        "    cm, accuracy, precision, recall, f1 = getMetrics(y_test, y_test_predicted)\n",
        "\n",
        "    cm_per_fold.append(cm)\n",
        "    acc_per_fold.append(accuracy)\n",
        "    precision_per_fold.append(precision)\n",
        "    recall_per_fold.append(recall)\n",
        "    f1_per_fold.append(f1)\n",
        "  return acc_per_fold, cm_per_fold, precision_per_fold, recall_per_fold, f1_per_fold"
      ],
      "metadata": {
        "id": "X2HE6dcwrDdO"
      },
      "execution_count": null,
      "outputs": []
    },
    {
      "cell_type": "code",
      "source": [
        "def ploting(cm_per_fold, \n",
        "            acc_per_fold, \n",
        "            precision_per_fold, \n",
        "            recall_per_fold, \n",
        "            f1_per_fold\n",
        "            ):                    \n",
        "  index = 0\n",
        "  for cm in cm_per_fold:\n",
        "    acc = acc_per_fold[index]\n",
        "    precision = precision_per_fold[index]\n",
        "    recall = recall_per_fold[index]\n",
        "    f1 = f1_per_fold[index]\n",
        "    print('------------------------------------------------------------------------')\n",
        "    print(f'> Fold {index+1} - Accuracy: {acc}%')\n",
        "    # Show Precision\n",
        "    print('Precision: {:.2f}%'.format(precision))\n",
        "    # Show Recall\n",
        "    print('Recall: {:.2f}%'.format(recall))\n",
        "    # Show F1Score\n",
        "    print('F1 Score: {:.2f}%'.format(f1))\n",
        "    # Show Confusion Matrix\n",
        "    fig, ax = plt.subplots(figsize=(3, 3), constrained_layout=\"True\")\n",
        "    ax.matshow(cm, cmap=plt.cm.Blues, alpha=0.3)\n",
        "    for i in range(cm.shape[0]):\n",
        "        for j in range(cm.shape[1]):\n",
        "            ax.text(x=j, y=i, s=cm[i, j], va='center', ha='center')        \n",
        "    plt.xlabel('Predictions', fontsize=12)\n",
        "    plt.ylabel('Actuals', fontsize=12)\n",
        "    plt.title('Confusion Matrix', fontsize=12)\n",
        "    plt.show()\n",
        "    index+=1\n",
        "  print('------------------------------------------------------------------------')\n",
        "  print(\"RATA-RATA SEMUA 'METRICS' UNTUK SEMUA FOLD:\")\n",
        "  print(f'> Accuracy: {np.mean(acc_per_fold)}')\n",
        "  print(f'> Precision: {np.mean(precision_per_fold)}%')\n",
        "  print(f'> Recall: {np.mean(recall_per_fold)}%')\n",
        "  print(f'> F1Score: {np.mean(f1_per_fold)}%')\n",
        "\n",
        "  print('------------------------------------------------------------------------')"
      ],
      "metadata": {
        "id": "fp335r9Kq-mz"
      },
      "execution_count": null,
      "outputs": []
    },
    {
      "cell_type": "code",
      "source": [
        "def showAccuracyPlotFold(accuracy, epoch_time):\n",
        "  foldKeN = [\"1\", \"2\", \"3\", \"4\", \"5\", \"6\", \"7\", \"8\", \"9\", \"10\"]\n",
        "  Akurasi = accuracy\n",
        "\n",
        "  fig, ax = plt.subplots()\n",
        "  ax.plot(foldKeN, Akurasi)\n",
        "\n",
        "  ax.set(xlabel='Fold - n', ylabel='Akurasi (%)',\n",
        "        title= 'Hasil Akurasi Epoch = 25 ({:.2f} s)'.format(epoch_time))\n",
        "  ax.grid()\n",
        "  \n",
        "  plt.show()"
      ],
      "metadata": {
        "id": "eDz2HbhirGyP"
      },
      "execution_count": null,
      "outputs": []
    },
    {
      "cell_type": "code",
      "source": [
        "# Model dengan parameter terbaik\n",
        "BestModelSVC = SVC(C=0.5, gamma='scale', kernel='rbf', random_state=42)"
      ],
      "metadata": {
        "id": "26I6565crOuT"
      },
      "execution_count": null,
      "outputs": []
    },
    {
      "cell_type": "code",
      "source": [
        "# Model SVM\n",
        "# n_folds = 5,\n",
        "start = time.process_time()\n",
        "acc_per_fold, cm_per_fold, precision_per_fold, recall_per_fold, f1_per_fold = trainModelWithKFlod(10, BestModelSVC, X, y)\n",
        "epoch_time = time.process_time() - start\n",
        "\n",
        "ploting(cm_per_fold, \n",
        "        acc_per_fold, \n",
        "        precision_per_fold, \n",
        "        recall_per_fold, \n",
        "        f1_per_fold\n",
        "        )\n",
        "showAccuracyPlotFold(acc_per_fold, epoch_time)\n",
        "print('Waktu Komputasi SVM ({:.2f} s)'.format(epoch_time))"
      ],
      "metadata": {
        "colab": {
          "base_uri": "https://localhost:8080/",
          "height": 1000
        },
        "id": "J_c4kkH5q5cX",
        "outputId": "8a364063-c6a9-4921-d0b2-592cce4f0937"
      },
      "execution_count": null,
      "outputs": [
        {
          "output_type": "stream",
          "name": "stdout",
          "text": [
            "------------------------------------------------------------------------\n",
            "> Fold 1 - Accuracy: 85.49618320610686%\n",
            "Precision: 86.76%\n",
            "Recall: 82.79%\n",
            "F1 Score: 84.00%\n"
          ]
        },
        {
          "output_type": "display_data",
          "data": {
            "text/plain": [
              "<Figure size 216x216 with 1 Axes>"
            ],
            "image/png": "[encoded data removed]"
          },
          "metadata": {
            "needs_background": "light"
          }
        },
        {
          "output_type": "stream",
          "name": "stdout",
          "text": [
            "------------------------------------------------------------------------\n",
            "> Fold 2 - Accuracy: 87.02290076335878%\n",
            "Precision: 86.94%\n",
            "Recall: 86.30%\n",
            "F1 Score: 86.57%\n"
          ]
        },
        {
          "output_type": "display_data",
          "data": {
            "text/plain": [
              "<Figure size 216x216 with 1 Axes>"
            ],
            "image/png": "[encoded data removed]"
          },
          "metadata": {
            "needs_background": "light"
          }
        },
        {
          "output_type": "stream",
          "name": "stdout",
          "text": [
            "------------------------------------------------------------------------\n",
            "> Fold 3 - Accuracy: 87.78625954198473%\n",
            "Precision: 87.52%\n",
            "Recall: 86.14%\n",
            "F1 Score: 86.73%\n"
          ]
        },
        {
          "output_type": "display_data",
          "data": {
            "text/plain": [
              "<Figure size 216x216 with 1 Axes>"
            ],
            "image/png": "[encoded data removed]"
          },
          "metadata": {
            "needs_background": "light"
          }
        },
        {
          "output_type": "stream",
          "name": "stdout",
          "text": [
            "------------------------------------------------------------------------\n",
            "> Fold 4 - Accuracy: 83.96946564885496%\n",
            "Precision: 84.08%\n",
            "Recall: 82.11%\n",
            "F1 Score: 82.81%\n"
          ]
        },
        {
          "output_type": "display_data",
          "data": {
            "text/plain": [
              "<Figure size 216x216 with 1 Axes>"
            ],
            "image/png": "[encoded data removed]"
          },
          "metadata": {
            "needs_background": "light"
          }
        },
        {
          "output_type": "stream",
          "name": "stdout",
          "text": [
            "------------------------------------------------------------------------\n",
            "> Fold 5 - Accuracy: 87.78625954198473%\n",
            "Precision: 87.60%\n",
            "Recall: 86.30%\n",
            "F1 Score: 86.85%\n"
          ]
        },
        {
          "output_type": "display_data",
          "data": {
            "text/plain": [
              "<Figure size 216x216 with 1 Axes>"
            ],
            "image/png": "[encoded data removed]"
          },
          "metadata": {
            "needs_background": "light"
          }
        },
        {
          "output_type": "stream",
          "name": "stdout",
          "text": [
            "------------------------------------------------------------------------\n",
            "> Fold 6 - Accuracy: 85.49618320610686%\n",
            "Precision: 85.21%\n",
            "Recall: 84.49%\n",
            "F1 Score: 84.80%\n"
          ]
        },
        {
          "output_type": "display_data",
          "data": {
            "text/plain": [
              "<Figure size 216x216 with 1 Axes>"
            ],
            "image/png": "[encoded data removed]"
          },
          "metadata": {
            "needs_background": "light"
          }
        },
        {
          "output_type": "stream",
          "name": "stdout",
          "text": [
            "------------------------------------------------------------------------\n",
            "> Fold 7 - Accuracy: 87.78625954198473%\n",
            "Precision: 86.55%\n",
            "Recall: 87.20%\n",
            "F1 Score: 86.85%\n"
          ]
        },
        {
          "output_type": "display_data",
          "data": {
            "text/plain": [
              "<Figure size 216x216 with 1 Axes>"
            ],
            "image/png": "[encoded data removed]"
          },
          "metadata": {
            "needs_background": "light"
          }
        },
        {
          "output_type": "stream",
          "name": "stdout",
          "text": [
            "------------------------------------------------------------------------\n",
            "> Fold 8 - Accuracy: 84.7328244274809%\n",
            "Precision: 83.95%\n",
            "Recall: 83.95%\n",
            "F1 Score: 83.95%\n"
          ]
        },
        {
          "output_type": "display_data",
          "data": {
            "text/plain": [
              "<Figure size 216x216 with 1 Axes>"
            ],
            "image/png": "[encoded data removed]"
          },
          "metadata": {
            "needs_background": "light"
          }
        },
        {
          "output_type": "stream",
          "name": "stdout",
          "text": [
            "------------------------------------------------------------------------\n",
            "> Fold 9 - Accuracy: 77.86259541984732%\n",
            "Precision: 75.38%\n",
            "Recall: 73.79%\n",
            "F1 Score: 74.43%\n"
          ]
        },
        {
          "output_type": "display_data",
          "data": {
            "text/plain": [
              "<Figure size 216x216 with 1 Axes>"
            ],
            "image/png": "[encoded data removed]"
          },
          "metadata": {
            "needs_background": "light"
          }
        },
        {
          "output_type": "stream",
          "name": "stdout",
          "text": [
            "------------------------------------------------------------------------\n",
            "> Fold 10 - Accuracy: 87.6923076923077%\n",
            "Precision: 86.25%\n",
            "Recall: 85.31%\n",
            "F1 Score: 85.75%\n"
          ]
        },
        {
          "output_type": "display_data",
          "data": {
            "text/plain": [
              "<Figure size 216x216 with 1 Axes>"
            ],
            "image/png": "[encoded data removed]"
          },
          "metadata": {
            "needs_background": "light"
          }
        },
        {
          "output_type": "stream",
          "name": "stdout",
          "text": [
            "------------------------------------------------------------------------\n",
            "RATA-RATA SEMUA 'METRICS' UNTUK SEMUA FOLD:\n",
            "> Accuracy: 85.56312389900178\n",
            "> Precision: 85.0226576718143%\n",
            "> Recall: 83.83699767291004%\n",
            "> F1Score: 84.2737962160974%\n",
            "------------------------------------------------------------------------\n"
          ]
        },
        {
          "output_type": "display_data",
          "data": {
            "text/plain": [
              "<Figure size 432x288 with 1 Axes>"
            ],
            "image/png": "[encoded data removed]"
          },
          "metadata": {
            "needs_background": "light"
          }
        },
        {
          "output_type": "stream",
          "name": "stdout",
          "text": [
            "Waktu Komputasi SVM (0.68 s)\n"
          ]
        }
      ]
    }
  ]
}